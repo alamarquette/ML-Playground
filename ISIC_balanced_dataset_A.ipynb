{
 "cells": [
  {
   "cell_type": "code",
   "execution_count": 1,
   "id": "f9819a16-0aa0-495a-9879-0c50c6eca69c",
   "metadata": {},
   "outputs": [],
   "source": [
    "#A: try to balance the set "
   ]
  },
  {
   "cell_type": "code",
   "execution_count": 3,
   "id": "1f0ae90f-46ab-40bd-a3ab-ca53242315c5",
   "metadata": {},
   "outputs": [
    {
     "name": "stderr",
     "output_type": "stream",
     "text": [
      "/Users/amelie/.pyenv/versions/3.9.7/lib/python3.9/site-packages/pandas/compat/__init__.py:124: UserWarning: Could not import the lzma module. Your installed Python is incomplete. Attempting to use lzma compression will result in a RuntimeError.\n",
      "  warnings.warn(msg)\n"
     ]
    }
   ],
   "source": [
    "import tensorflow as tf\n",
    "from tensorflow import keras\n",
    "from tensorflow.keras import layers\n",
    "import os \n",
    "import json\n",
    "import pandas as pd\n",
    "import numpy as np"
   ]
  },
  {
   "cell_type": "code",
   "execution_count": 4,
   "id": "cad57b68-f8c3-42d9-ba78-7e0d21373ffa",
   "metadata": {},
   "outputs": [
    {
     "name": "stdout",
     "output_type": "stream",
     "text": [
      "Found 1000 files belonging to 2 classes.\n"
     ]
    },
    {
     "name": "stderr",
     "output_type": "stream",
     "text": [
      "2021-11-13 21:41:26.354233: I tensorflow/core/platform/cpu_feature_guard.cc:151] This TensorFlow binary is optimized with oneAPI Deep Neural Network Library (oneDNN) to use the following CPU instructions in performance-critical operations:  AVX2 FMA\n",
      "To enable them in other operations, rebuild TensorFlow with the appropriate compiler flags.\n"
     ]
    }
   ],
   "source": [
    "dir_path='Data/Descriptions/'\n",
    "description=[]\n",
    "for fname in os.listdir(dir_path):\n",
    "    description.append(json.load(open(dir_path+fname, 'r')))\n",
    "\n",
    "df = pd.DataFrame.from_records(description)\n",
    "df =  df.merge(pd.json_normalize(df.meta, sep=\"_\"), left_index=True, right_index=True)\n",
    "df = df.drop(columns=['creator', 'dataset', 'meta', 'notes'])\n",
    "img_size = (df.acquisition_pixelsX.min(),df.acquisition_pixelsY.min())\n",
    "data_set = tf.keras.preprocessing.image_dataset_from_directory(\n",
    "    'Data/Images/',\n",
    "    label_mode='binary',\n",
    "    image_size=img_size)"
   ]
  },
  {
   "cell_type": "code",
   "execution_count": 5,
   "id": "64106fba-7e6d-43d1-8aa6-3bf86b41aecd",
   "metadata": {},
   "outputs": [
    {
     "data": {
      "text/html": [
       "<div>\n",
       "<style scoped>\n",
       "    .dataframe tbody tr th:only-of-type {\n",
       "        vertical-align: middle;\n",
       "    }\n",
       "\n",
       "    .dataframe tbody tr th {\n",
       "        vertical-align: top;\n",
       "    }\n",
       "\n",
       "    .dataframe thead th {\n",
       "        text-align: right;\n",
       "    }\n",
       "</style>\n",
       "<table border=\"1\" class=\"dataframe\">\n",
       "  <thead>\n",
       "    <tr style=\"text-align: right;\">\n",
       "      <th></th>\n",
       "      <th>_id</th>\n",
       "      <th>_modelType</th>\n",
       "      <th>created</th>\n",
       "      <th>name</th>\n",
       "      <th>updated</th>\n",
       "      <th>acquisition_image_type</th>\n",
       "      <th>acquisition_pixelsX</th>\n",
       "      <th>acquisition_pixelsY</th>\n",
       "      <th>clinical_age_approx</th>\n",
       "      <th>clinical_anatom_site_general</th>\n",
       "      <th>clinical_benign_malignant</th>\n",
       "      <th>clinical_diagnosis</th>\n",
       "      <th>clinical_diagnosis_confirm_type</th>\n",
       "      <th>clinical_melanocytic</th>\n",
       "      <th>clinical_sex</th>\n",
       "    </tr>\n",
       "  </thead>\n",
       "  <tbody>\n",
       "    <tr>\n",
       "      <th>0</th>\n",
       "      <td>5436e3f3bae478396759f49a</td>\n",
       "      <td>image</td>\n",
       "      <td>2014-10-09T19:37:23.717000+00:00</td>\n",
       "      <td>ISIC_0000483</td>\n",
       "      <td>2015-02-01T00:36:46.894000+00:00</td>\n",
       "      <td>dermoscopic</td>\n",
       "      <td>919</td>\n",
       "      <td>802</td>\n",
       "      <td>NaN</td>\n",
       "      <td>lower extremity</td>\n",
       "      <td>benign</td>\n",
       "      <td>nevus</td>\n",
       "      <td>None</td>\n",
       "      <td>True</td>\n",
       "      <td>None</td>\n",
       "    </tr>\n",
       "    <tr>\n",
       "      <th>1</th>\n",
       "      <td>5436e3cabae478396759f28b</td>\n",
       "      <td>image</td>\n",
       "      <td>2014-10-09T19:36:42.738000+00:00</td>\n",
       "      <td>ISIC_0000221</td>\n",
       "      <td>2015-12-04T15:06:51.949000+00:00</td>\n",
       "      <td>dermoscopic</td>\n",
       "      <td>962</td>\n",
       "      <td>671</td>\n",
       "      <td>30.0</td>\n",
       "      <td>upper extremity</td>\n",
       "      <td>benign</td>\n",
       "      <td>nevus</td>\n",
       "      <td>None</td>\n",
       "      <td>True</td>\n",
       "      <td>female</td>\n",
       "    </tr>\n",
       "    <tr>\n",
       "      <th>2</th>\n",
       "      <td>5436e3adbae478396759f0e9</td>\n",
       "      <td>image</td>\n",
       "      <td>2014-10-09T19:36:13.062000+00:00</td>\n",
       "      <td>ISIC_0000013</td>\n",
       "      <td>2015-02-23T02:50:26.544000+00:00</td>\n",
       "      <td>dermoscopic</td>\n",
       "      <td>1022</td>\n",
       "      <td>767</td>\n",
       "      <td>30.0</td>\n",
       "      <td>posterior torso</td>\n",
       "      <td>malignant</td>\n",
       "      <td>melanoma</td>\n",
       "      <td>histopathology</td>\n",
       "      <td>True</td>\n",
       "      <td>female</td>\n",
       "    </tr>\n",
       "    <tr>\n",
       "      <th>3</th>\n",
       "      <td>5436e3f3bae478396759f48e</td>\n",
       "      <td>image</td>\n",
       "      <td>2014-10-09T19:37:23.147000+00:00</td>\n",
       "      <td>ISIC_0000477</td>\n",
       "      <td>2015-02-01T00:46:33.935000+00:00</td>\n",
       "      <td>dermoscopic</td>\n",
       "      <td>919</td>\n",
       "      <td>802</td>\n",
       "      <td>NaN</td>\n",
       "      <td>posterior torso</td>\n",
       "      <td>benign</td>\n",
       "      <td>nevus</td>\n",
       "      <td>None</td>\n",
       "      <td>True</td>\n",
       "      <td>None</td>\n",
       "    </tr>\n",
       "    <tr>\n",
       "      <th>4</th>\n",
       "      <td>54d90e16bae4780ab00c3075</td>\n",
       "      <td>image</td>\n",
       "      <td>2015-02-09T19:44:22.770000+00:00</td>\n",
       "      <td>ISIC_0000645</td>\n",
       "      <td>2015-12-03T18:13:38.648000+00:00</td>\n",
       "      <td>dermoscopic</td>\n",
       "      <td>3024</td>\n",
       "      <td>2016</td>\n",
       "      <td>15.0</td>\n",
       "      <td>NaN</td>\n",
       "      <td>benign</td>\n",
       "      <td>nevus</td>\n",
       "      <td>single image expert consensus</td>\n",
       "      <td>True</td>\n",
       "      <td>male</td>\n",
       "    </tr>\n",
       "    <tr>\n",
       "      <th>...</th>\n",
       "      <td>...</td>\n",
       "      <td>...</td>\n",
       "      <td>...</td>\n",
       "      <td>...</td>\n",
       "      <td>...</td>\n",
       "      <td>...</td>\n",
       "      <td>...</td>\n",
       "      <td>...</td>\n",
       "      <td>...</td>\n",
       "      <td>...</td>\n",
       "      <td>...</td>\n",
       "      <td>...</td>\n",
       "      <td>...</td>\n",
       "      <td>...</td>\n",
       "      <td>...</td>\n",
       "    </tr>\n",
       "    <tr>\n",
       "      <th>995</th>\n",
       "      <td>5436e3cebae478396759f2e3</td>\n",
       "      <td>image</td>\n",
       "      <td>2014-10-09T19:36:46.887000+00:00</td>\n",
       "      <td>ISIC_0000265</td>\n",
       "      <td>2015-12-02T19:24:28.139000+00:00</td>\n",
       "      <td>dermoscopic</td>\n",
       "      <td>1024</td>\n",
       "      <td>768</td>\n",
       "      <td>25.0</td>\n",
       "      <td>upper extremity</td>\n",
       "      <td>benign</td>\n",
       "      <td>nevus</td>\n",
       "      <td>None</td>\n",
       "      <td>True</td>\n",
       "      <td>female</td>\n",
       "    </tr>\n",
       "    <tr>\n",
       "      <th>996</th>\n",
       "      <td>5436e3b2bae478396759f141</td>\n",
       "      <td>image</td>\n",
       "      <td>2014-10-09T19:36:18.368000+00:00</td>\n",
       "      <td>ISIC_0000057</td>\n",
       "      <td>2015-02-23T03:00:17.710000+00:00</td>\n",
       "      <td>dermoscopic</td>\n",
       "      <td>1504</td>\n",
       "      <td>1129</td>\n",
       "      <td>40.0</td>\n",
       "      <td>lower extremity</td>\n",
       "      <td>benign</td>\n",
       "      <td>nevus</td>\n",
       "      <td>None</td>\n",
       "      <td>True</td>\n",
       "      <td>female</td>\n",
       "    </tr>\n",
       "    <tr>\n",
       "      <th>997</th>\n",
       "      <td>5436e3d1bae478396759f317</td>\n",
       "      <td>image</td>\n",
       "      <td>2014-10-09T19:36:49.177000+00:00</td>\n",
       "      <td>ISIC_0000291</td>\n",
       "      <td>2014-11-03T14:28:49.374000+00:00</td>\n",
       "      <td>dermoscopic</td>\n",
       "      <td>1024</td>\n",
       "      <td>768</td>\n",
       "      <td>55.0</td>\n",
       "      <td>head/neck</td>\n",
       "      <td>malignant</td>\n",
       "      <td>melanoma</td>\n",
       "      <td>histopathology</td>\n",
       "      <td>True</td>\n",
       "      <td>female</td>\n",
       "    </tr>\n",
       "    <tr>\n",
       "      <th>998</th>\n",
       "      <td>5436e3b3bae478396759f157</td>\n",
       "      <td>image</td>\n",
       "      <td>2014-10-09T19:36:19.603000+00:00</td>\n",
       "      <td>ISIC_0000068</td>\n",
       "      <td>2015-02-23T03:02:53.121000+00:00</td>\n",
       "      <td>dermoscopic</td>\n",
       "      <td>962</td>\n",
       "      <td>722</td>\n",
       "      <td>35.0</td>\n",
       "      <td>anterior torso</td>\n",
       "      <td>benign</td>\n",
       "      <td>nevus</td>\n",
       "      <td>None</td>\n",
       "      <td>True</td>\n",
       "      <td>female</td>\n",
       "    </tr>\n",
       "    <tr>\n",
       "      <th>999</th>\n",
       "      <td>54d90e67bae4780ab00c348a</td>\n",
       "      <td>image</td>\n",
       "      <td>2015-02-09T19:45:43.967000+00:00</td>\n",
       "      <td>ISIC_0000854</td>\n",
       "      <td>2015-12-03T18:13:39.126000+00:00</td>\n",
       "      <td>dermoscopic</td>\n",
       "      <td>3024</td>\n",
       "      <td>2016</td>\n",
       "      <td>15.0</td>\n",
       "      <td>NaN</td>\n",
       "      <td>benign</td>\n",
       "      <td>nevus</td>\n",
       "      <td>single image expert consensus</td>\n",
       "      <td>True</td>\n",
       "      <td>female</td>\n",
       "    </tr>\n",
       "  </tbody>\n",
       "</table>\n",
       "<p>1000 rows × 15 columns</p>\n",
       "</div>"
      ],
      "text/plain": [
       "                          _id _modelType                           created  \\\n",
       "0    5436e3f3bae478396759f49a      image  2014-10-09T19:37:23.717000+00:00   \n",
       "1    5436e3cabae478396759f28b      image  2014-10-09T19:36:42.738000+00:00   \n",
       "2    5436e3adbae478396759f0e9      image  2014-10-09T19:36:13.062000+00:00   \n",
       "3    5436e3f3bae478396759f48e      image  2014-10-09T19:37:23.147000+00:00   \n",
       "4    54d90e16bae4780ab00c3075      image  2015-02-09T19:44:22.770000+00:00   \n",
       "..                        ...        ...                               ...   \n",
       "995  5436e3cebae478396759f2e3      image  2014-10-09T19:36:46.887000+00:00   \n",
       "996  5436e3b2bae478396759f141      image  2014-10-09T19:36:18.368000+00:00   \n",
       "997  5436e3d1bae478396759f317      image  2014-10-09T19:36:49.177000+00:00   \n",
       "998  5436e3b3bae478396759f157      image  2014-10-09T19:36:19.603000+00:00   \n",
       "999  54d90e67bae4780ab00c348a      image  2015-02-09T19:45:43.967000+00:00   \n",
       "\n",
       "             name                           updated acquisition_image_type  \\\n",
       "0    ISIC_0000483  2015-02-01T00:36:46.894000+00:00            dermoscopic   \n",
       "1    ISIC_0000221  2015-12-04T15:06:51.949000+00:00            dermoscopic   \n",
       "2    ISIC_0000013  2015-02-23T02:50:26.544000+00:00            dermoscopic   \n",
       "3    ISIC_0000477  2015-02-01T00:46:33.935000+00:00            dermoscopic   \n",
       "4    ISIC_0000645  2015-12-03T18:13:38.648000+00:00            dermoscopic   \n",
       "..            ...                               ...                    ...   \n",
       "995  ISIC_0000265  2015-12-02T19:24:28.139000+00:00            dermoscopic   \n",
       "996  ISIC_0000057  2015-02-23T03:00:17.710000+00:00            dermoscopic   \n",
       "997  ISIC_0000291  2014-11-03T14:28:49.374000+00:00            dermoscopic   \n",
       "998  ISIC_0000068  2015-02-23T03:02:53.121000+00:00            dermoscopic   \n",
       "999  ISIC_0000854  2015-12-03T18:13:39.126000+00:00            dermoscopic   \n",
       "\n",
       "     acquisition_pixelsX  acquisition_pixelsY  clinical_age_approx  \\\n",
       "0                    919                  802                  NaN   \n",
       "1                    962                  671                 30.0   \n",
       "2                   1022                  767                 30.0   \n",
       "3                    919                  802                  NaN   \n",
       "4                   3024                 2016                 15.0   \n",
       "..                   ...                  ...                  ...   \n",
       "995                 1024                  768                 25.0   \n",
       "996                 1504                 1129                 40.0   \n",
       "997                 1024                  768                 55.0   \n",
       "998                  962                  722                 35.0   \n",
       "999                 3024                 2016                 15.0   \n",
       "\n",
       "    clinical_anatom_site_general clinical_benign_malignant clinical_diagnosis  \\\n",
       "0                lower extremity                    benign              nevus   \n",
       "1                upper extremity                    benign              nevus   \n",
       "2                posterior torso                 malignant           melanoma   \n",
       "3                posterior torso                    benign              nevus   \n",
       "4                            NaN                    benign              nevus   \n",
       "..                           ...                       ...                ...   \n",
       "995              upper extremity                    benign              nevus   \n",
       "996              lower extremity                    benign              nevus   \n",
       "997                    head/neck                 malignant           melanoma   \n",
       "998               anterior torso                    benign              nevus   \n",
       "999                          NaN                    benign              nevus   \n",
       "\n",
       "    clinical_diagnosis_confirm_type clinical_melanocytic clinical_sex  \n",
       "0                              None                 True         None  \n",
       "1                              None                 True       female  \n",
       "2                    histopathology                 True       female  \n",
       "3                              None                 True         None  \n",
       "4     single image expert consensus                 True         male  \n",
       "..                              ...                  ...          ...  \n",
       "995                            None                 True       female  \n",
       "996                            None                 True       female  \n",
       "997                  histopathology                 True       female  \n",
       "998                            None                 True       female  \n",
       "999   single image expert consensus                 True       female  \n",
       "\n",
       "[1000 rows x 15 columns]"
      ]
     },
     "execution_count": 5,
     "metadata": {},
     "output_type": "execute_result"
    }
   ],
   "source": [
    "df"
   ]
  },
  {
   "cell_type": "code",
   "execution_count": 6,
   "id": "e4c5227e-53e4-40a2-ac4e-c326d914628b",
   "metadata": {},
   "outputs": [
    {
     "name": "stdout",
     "output_type": "stream",
     "text": [
      "Examples:\n",
      "    Total: 1000\n",
      "    Positive: 159 (15.90% of total)\n",
      "\n"
     ]
    }
   ],
   "source": [
    "neg, pos = np.bincount((df.clinical_benign_malignant=='malignant').astype(int))\n",
    "total = neg + pos\n",
    "print('Examples:\\n    Total: {}\\n    Positive: {} ({:.2f}% of total)\\n'.format(\n",
    "    total, pos, 100 * pos / total))"
   ]
  },
  {
   "cell_type": "code",
   "execution_count": 7,
   "id": "d5a7d1c3-7c0f-4237-81a9-e5d503624fe8",
   "metadata": {},
   "outputs": [],
   "source": [
    "# https://www.tensorflow.org/api_docs/python/tf/data/Dataset#map"
   ]
  },
  {
   "cell_type": "code",
   "execution_count": 26,
   "id": "a097a0cb-5274-4878-a9dc-f613c14b2677",
   "metadata": {},
   "outputs": [],
   "source": [
    "train_features=[]\n",
    "train_labels=[]\n",
    "for vb in data_set.take(1):\n",
    "    train_features = vb[0]\n",
    "    train_labels = vb[1]\n",
    "    if vb[1]!= 0\n",
    "        \n",
    "bool_train_labels = train_labels != 0"
   ]
  },
  {
   "cell_type": "code",
   "execution_count": 53,
   "id": "21e74392-3b7d-489a-a5f8-7e1417561ba1",
   "metadata": {},
   "outputs": [
    {
     "data": {
      "text/plain": [
       "<BatchDataset shapes: ((None, 576, 540, 3), (None, 1)), types: (tf.float32, tf.float32)>"
      ]
     },
     "execution_count": 53,
     "metadata": {},
     "output_type": "execute_result"
    }
   ],
   "source": [
    "data_set"
   ]
  },
  {
   "cell_type": "code",
   "execution_count": 52,
   "id": "d974518a-f632-40da-b799-b8781f041222",
   "metadata": {},
   "outputs": [
    {
     "data": {
      "text/plain": [
       "<TakeDataset shapes: ((None, 576, 540, 3), (None, 1)), types: (tf.float32, tf.float32)>"
      ]
     },
     "execution_count": 52,
     "metadata": {},
     "output_type": "execute_result"
    }
   ],
   "source": [
    "data_set.take(2)"
   ]
  },
  {
   "cell_type": "code",
   "execution_count": 42,
   "id": "34760ae8-3c89-4594-8653-a7f09126ded3",
   "metadata": {},
   "outputs": [
    {
     "ename": "ValueError",
     "evalue": "Shapes (32, 576) and (32, 1) are incompatible",
     "output_type": "error",
     "traceback": [
      "\u001b[0;31m---------------------------------------------------------------------------\u001b[0m",
      "\u001b[0;31mValueError\u001b[0m                                Traceback (most recent call last)",
      "\u001b[0;32m/var/folders/jl/whsz43ks53qfqwb5hfb8jn_80000gn/T/ipykernel_4728/3055843777.py\u001b[0m in \u001b[0;36m<module>\u001b[0;34m\u001b[0m\n\u001b[0;32m----> 1\u001b[0;31m \u001b[0mpos_features\u001b[0m \u001b[0;34m=\u001b[0m \u001b[0mtrain_features\u001b[0m\u001b[0;34m[\u001b[0m\u001b[0mbool_train_labels\u001b[0m\u001b[0;34m]\u001b[0m\u001b[0;34m\u001b[0m\u001b[0;34m\u001b[0m\u001b[0m\n\u001b[0m\u001b[1;32m      2\u001b[0m \u001b[0mneg_features\u001b[0m \u001b[0;34m=\u001b[0m \u001b[0mtrain_features\u001b[0m\u001b[0;34m[\u001b[0m\u001b[0;34m~\u001b[0m\u001b[0mbool_train_labels\u001b[0m\u001b[0;34m]\u001b[0m\u001b[0;34m\u001b[0m\u001b[0;34m\u001b[0m\u001b[0m\n",
      "\u001b[0;32m~/.pyenv/versions/3.9.7/lib/python3.9/site-packages/tensorflow/python/util/traceback_utils.py\u001b[0m in \u001b[0;36merror_handler\u001b[0;34m(*args, **kwargs)\u001b[0m\n\u001b[1;32m    151\u001b[0m     \u001b[0;32mexcept\u001b[0m \u001b[0mException\u001b[0m \u001b[0;32mas\u001b[0m \u001b[0me\u001b[0m\u001b[0;34m:\u001b[0m\u001b[0;34m\u001b[0m\u001b[0;34m\u001b[0m\u001b[0m\n\u001b[1;32m    152\u001b[0m       \u001b[0mfiltered_tb\u001b[0m \u001b[0;34m=\u001b[0m \u001b[0m_process_traceback_frames\u001b[0m\u001b[0;34m(\u001b[0m\u001b[0me\u001b[0m\u001b[0;34m.\u001b[0m\u001b[0m__traceback__\u001b[0m\u001b[0;34m)\u001b[0m\u001b[0;34m\u001b[0m\u001b[0;34m\u001b[0m\u001b[0m\n\u001b[0;32m--> 153\u001b[0;31m       \u001b[0;32mraise\u001b[0m \u001b[0me\u001b[0m\u001b[0;34m.\u001b[0m\u001b[0mwith_traceback\u001b[0m\u001b[0;34m(\u001b[0m\u001b[0mfiltered_tb\u001b[0m\u001b[0;34m)\u001b[0m \u001b[0;32mfrom\u001b[0m \u001b[0;32mNone\u001b[0m\u001b[0;34m\u001b[0m\u001b[0;34m\u001b[0m\u001b[0m\n\u001b[0m\u001b[1;32m    154\u001b[0m     \u001b[0;32mfinally\u001b[0m\u001b[0;34m:\u001b[0m\u001b[0;34m\u001b[0m\u001b[0;34m\u001b[0m\u001b[0m\n\u001b[1;32m    155\u001b[0m       \u001b[0;32mdel\u001b[0m \u001b[0mfiltered_tb\u001b[0m\u001b[0;34m\u001b[0m\u001b[0;34m\u001b[0m\u001b[0m\n",
      "\u001b[0;32m~/.pyenv/versions/3.9.7/lib/python3.9/site-packages/tensorflow/python/framework/tensor_shape.py\u001b[0m in \u001b[0;36massert_is_compatible_with\u001b[0;34m(self, other)\u001b[0m\n\u001b[1;32m   1169\u001b[0m     \"\"\"\n\u001b[1;32m   1170\u001b[0m     \u001b[0;32mif\u001b[0m \u001b[0;32mnot\u001b[0m \u001b[0mself\u001b[0m\u001b[0;34m.\u001b[0m\u001b[0mis_compatible_with\u001b[0m\u001b[0;34m(\u001b[0m\u001b[0mother\u001b[0m\u001b[0;34m)\u001b[0m\u001b[0;34m:\u001b[0m\u001b[0;34m\u001b[0m\u001b[0;34m\u001b[0m\u001b[0m\n\u001b[0;32m-> 1171\u001b[0;31m       \u001b[0;32mraise\u001b[0m \u001b[0mValueError\u001b[0m\u001b[0;34m(\u001b[0m\u001b[0;34m\"Shapes %s and %s are incompatible\"\u001b[0m \u001b[0;34m%\u001b[0m \u001b[0;34m(\u001b[0m\u001b[0mself\u001b[0m\u001b[0;34m,\u001b[0m \u001b[0mother\u001b[0m\u001b[0;34m)\u001b[0m\u001b[0;34m)\u001b[0m\u001b[0;34m\u001b[0m\u001b[0;34m\u001b[0m\u001b[0m\n\u001b[0m\u001b[1;32m   1172\u001b[0m \u001b[0;34m\u001b[0m\u001b[0m\n\u001b[1;32m   1173\u001b[0m   \u001b[0;32mdef\u001b[0m \u001b[0mmost_specific_compatible_shape\u001b[0m\u001b[0;34m(\u001b[0m\u001b[0mself\u001b[0m\u001b[0;34m,\u001b[0m \u001b[0mother\u001b[0m\u001b[0;34m)\u001b[0m\u001b[0;34m:\u001b[0m\u001b[0;34m\u001b[0m\u001b[0;34m\u001b[0m\u001b[0m\n",
      "\u001b[0;31mValueError\u001b[0m: Shapes (32, 576) and (32, 1) are incompatible"
     ]
    }
   ],
   "source": [
    "pos_features = train_features[bool_train_labels]\n",
    "neg_features = train_features[~bool_train_labels]"
   ]
  },
  {
   "cell_type": "code",
   "execution_count": 1,
   "id": "0a96326e-1bc1-4848-8af5-b1daec441cd3",
   "metadata": {},
   "outputs": [],
   "source": [
    "# pos_labels = train_labels[bool_train_labels]\n",
    "# neg_labels = train_labels[~bool_train_labels]"
   ]
  },
  {
   "cell_type": "code",
   "execution_count": 2,
   "id": "db4dce51-45a2-43c4-b156-aba2fe89ed08",
   "metadata": {},
   "outputs": [],
   "source": [
    "# BUFFER_SIZE = 100000\n",
    "\n",
    "# def make_ds(features, labels):\n",
    "#   ds = tf.data.Dataset.from_tensor_slices((features, labels))#.cache()\n",
    "#   ds = ds.shuffle(BUFFER_SIZE).repeat()\n",
    "#   return ds\n",
    "\n",
    "# pos_ds = make_ds(pos_features, pos_labels)\n",
    "# neg_ds = make_ds(neg_features, neg_labels)"
   ]
  },
  {
   "cell_type": "code",
   "execution_count": 22,
   "id": "e9384829-6744-438f-b456-83caaaed0c4f",
   "metadata": {},
   "outputs": [],
   "source": [
    "# # https://stackoverflow.com/questions/47236465/oversampling-functionality-in-tensorflow-dataset-api\n",
    "# # https://github.com/kmkolasinski/deep-learning-notes/blob/master/tf-oversampling/oversampling-datasets-example.ipynb\n",
    "\n",
    "# # # sampling parameters\n",
    "# oversampling_coef = 0.9  # if equal to 0 then oversample_classes() always returns 1\n",
    "# undersampling_coef = 0.5  # if equal to 0 then undersampling_filter() always returns True\n",
    "\n",
    "# def oversample_classes(example):\n",
    "#     \"\"\"\n",
    "#     Returns the number of copies of given example\n",
    "#     \"\"\"\n",
    "#     class_prob = example['class_prob']\n",
    "#     class_target_prob = example['class_target_prob']\n",
    "#     prob_ratio = tf.cast(class_target_prob/class_prob, dtype=tf.float32)\n",
    "#     # soften ratio is oversampling_coef==0 we recover original distribution\n",
    "#     prob_ratio = prob_ratio ** oversampling_coef \n",
    "#     # for classes with probability higher than class_target_prob we\n",
    "#     # want to return 1\n",
    "#     prob_ratio = tf.maximum(prob_ratio, 1) \n",
    "#     # for low probability classes this number will be very large\n",
    "#     repeat_count = tf.floor(prob_ratio)\n",
    "#     # prob_ratio can be e.g 1.9 which means that there is still 90%\n",
    "#     # of change that we should return 2 instead of 1\n",
    "#     repeat_residual = prob_ratio - repeat_count # a number between 0-1\n",
    "#     residual_acceptance = tf.less_equal(\n",
    "#                         tf.random_uniform([], dtype=tf.float32), repeat_residual\n",
    "#     )\n",
    "\n",
    "#     residual_acceptance = tf.cast(residual_acceptance, tf.int64)\n",
    "#     repeat_count = tf.cast(repeat_count, dtype=tf.int64)\n",
    "\n",
    "#     return repeat_count + residual_acceptance\n",
    "\n",
    "\n",
    "# def undersampling_filter(example):\n",
    "#     \"\"\"\n",
    "#     Computes if given example is rejected or not.\n",
    "#     \"\"\"\n",
    "#     class_prob = example['class_prob']\n",
    "#     class_target_prob = example['class_target_prob']\n",
    "#     prob_ratio = tf.cast(class_target_prob/class_prob, dtype=tf.float32)\n",
    "#     prob_ratio = prob_ratio ** undersampling_coef\n",
    "#     prob_ratio = tf.minimum(prob_ratio, 1.0)\n",
    "\n",
    "#     acceptance = tf.less_equal(tf.random_uniform([], dtype=tf.float32), prob_ratio)\n",
    "\n",
    "#     return acceptance\n",
    "\n",
    "# def lbd(feat, lab):\n",
    "#     return tf.data.Dataset.from_tensors(feat).repeat(oversample_classes(feat))\n",
    "    \n",
    "\n",
    "# data_set = data_set.flat_map(\n",
    "#     lbd\n",
    "# )\n",
    "\n",
    "# data_set = data_set.filter(undersampling_filter)\n",
    "\n",
    "# data_set = data_set.repeat(-1)\n",
    "# data_set = data_set.shuffle(2048)\n",
    "# data_set = data_set.batch(32)\n",
    "\n",
    "# sess.run(tf.global_variables_initializer())\n",
    "\n",
    "# iterator = data_set.make_one_shot_iterator()\n",
    "# next_element = iterator.get_next()"
   ]
  },
  {
   "cell_type": "raw",
   "id": "83f46707-7600-4f33-9948-aa7a931bda4d",
   "metadata": {},
   "source": []
  },
  {
   "cell_type": "code",
   "execution_count": 122,
   "id": "b7503594-296c-4154-93ae-6cb775352b9b",
   "metadata": {},
   "outputs": [],
   "source": [
    "new_ds = None\n",
    "for el in data_set:\n",
    "    features=el[0]\n",
    "    labels=el[1]\n",
    "    for i in range(len(features)):\n",
    "        is_malignant = labels[i]\n",
    "        samples = 1\n",
    "        if is_malignant:\n",
    "            samples = np.random.geometric(p=0.3)\n",
    "        tmp_ds = tf.data.Dataset.from_tensors((features[i], labels[i])).repeat(samples)\n",
    "        if new_ds is None:\n",
    "            new_ds = tmp_ds\n",
    "        else:\n",
    "            new_ds.concatenate(tmp_ds)"
   ]
  },
  {
   "cell_type": "code",
   "execution_count": 129,
   "id": "ea9c6bda-b266-421f-9a5c-52a6e009b5ab",
   "metadata": {},
   "outputs": [],
   "source": [
    "oversampled_ds = new_ds.batch(32)"
   ]
  },
  {
   "cell_type": "code",
   "execution_count": 126,
   "id": "4cff7bea-665d-48fc-acd6-6686386a082a",
   "metadata": {},
   "outputs": [
    {
     "data": {
      "text/plain": [
       "<BatchDataset shapes: ((None, 576, 540, 3), (None, 1)), types: (tf.float32, tf.float32)>"
      ]
     },
     "execution_count": 126,
     "metadata": {},
     "output_type": "execute_result"
    }
   ],
   "source": [
    "data_set"
   ]
  },
  {
   "cell_type": "code",
   "execution_count": 134,
   "id": "b9a0c1d5-609b-4776-91f1-8f94d2dbb816",
   "metadata": {},
   "outputs": [
    {
     "data": {
      "text/plain": [
       "<tf.Tensor: shape=(), dtype=int64, numpy=1>"
      ]
     },
     "execution_count": 134,
     "metadata": {},
     "output_type": "execute_result"
    }
   ],
   "source": [
    "oversampled_ds"
   ]
  },
  {
   "cell_type": "code",
   "execution_count": null,
   "id": "95574724-5b1f-4cad-a1b1-be1a05b6059b",
   "metadata": {},
   "outputs": [],
   "source": []
  }
 ],
 "metadata": {
  "kernelspec": {
   "display_name": "Python 3 (ipykernel)",
   "language": "python",
   "name": "python3"
  },
  "language_info": {
   "codemirror_mode": {
    "name": "ipython",
    "version": 3
   },
   "file_extension": ".py",
   "mimetype": "text/x-python",
   "name": "python",
   "nbconvert_exporter": "python",
   "pygments_lexer": "ipython3",
   "version": "3.9.7"
  }
 },
 "nbformat": 4,
 "nbformat_minor": 5
}
