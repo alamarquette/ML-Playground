{
 "cells": [
  {
   "cell_type": "code",
   "execution_count": 1,
   "id": "c92be9bb-a045-471e-b716-da2b5eae459a",
   "metadata": {},
   "outputs": [
    {
     "name": "stderr",
     "output_type": "stream",
     "text": [
      "/Users/ds/.pyenv/versions/3.9.7/envs/ml-plg/lib/python3.9/site-packages/pandas/compat/__init__.py:109: UserWarning: Could not import the lzma module. Your installed Python is incomplete. Attempting to use lzma compression will result in a RuntimeError.\n",
      "  warnings.warn(msg)\n"
     ]
    }
   ],
   "source": [
    "import tensorflow as tf\n",
    "import os \n",
    "import json\n",
    "import pandas as pd"
   ]
  },
  {
   "cell_type": "code",
   "execution_count": 2,
   "id": "6e34d43a-1657-4ad7-862c-72b65c8b3a06",
   "metadata": {},
   "outputs": [],
   "source": [
    "dir_path='Data/Descriptions/'"
   ]
  },
  {
   "cell_type": "code",
   "execution_count": 13,
   "id": "b9fcc6f2-03c8-4f9c-ba90-6cd7cfaa1899",
   "metadata": {},
   "outputs": [],
   "source": [
    "description=[]\n",
    "for fname in os.listdir(dir_path):\n",
    "    description.append(json.load(open(dir_path+fname, 'r')))"
   ]
  },
  {
   "cell_type": "code",
   "execution_count": 14,
   "id": "f98a80d0-4ae9-40e9-9010-13b0ea9d61c8",
   "metadata": {},
   "outputs": [
    {
     "data": {
      "text/plain": [
       "1000"
      ]
     },
     "execution_count": 14,
     "metadata": {},
     "output_type": "execute_result"
    }
   ],
   "source": [
    "len(description)"
   ]
  },
  {
   "cell_type": "code",
   "execution_count": 15,
   "id": "4efff324-6e61-4a71-92a0-cef5f91e3c62",
   "metadata": {},
   "outputs": [
    {
     "data": {
      "text/plain": [
       "{'_id': '5436e3f3bae478396759f49a',\n",
       " '_modelType': 'image',\n",
       " 'created': '2014-10-09T19:37:23.717000+00:00',\n",
       " 'creator': {'_id': '5450e996bae47865794e4d0d', 'name': 'User 6VSN'},\n",
       " 'dataset': {'_accessLevel': 0,\n",
       "  '_id': '5a2ecc5e1165975c945942a2',\n",
       "  'description': 'Moles and melanomas.\\nBiopsy-confirmed melanocytic lesions. Both malignant and benign lesions are included.',\n",
       "  'license': 'CC-0',\n",
       "  'name': 'UDA-1',\n",
       "  'updated': '2014-11-10T02:39:56.492000+00:00'},\n",
       " 'meta': {'acquisition': {'image_type': 'dermoscopic',\n",
       "   'pixelsX': 919,\n",
       "   'pixelsY': 802},\n",
       "  'clinical': {'age_approx': None,\n",
       "   'anatom_site_general': 'lower extremity',\n",
       "   'benign_malignant': 'benign',\n",
       "   'diagnosis': 'nevus',\n",
       "   'diagnosis_confirm_type': None,\n",
       "   'melanocytic': True,\n",
       "   'sex': None}},\n",
       " 'name': 'ISIC_0000483',\n",
       " 'notes': {'reviewed': {'accepted': True,\n",
       "   'time': '2014-11-10T02:39:56.492000+00:00',\n",
       "   'userId': '5436c6e7bae4780a676c8f93'},\n",
       "  'tags': ['Challenge 2018: Task 1-2: Training',\n",
       "   'Challenge 2019: Training',\n",
       "   'Challenge 2016: Training',\n",
       "   'Challenge 2017: Training']},\n",
       " 'updated': '2015-02-01T00:36:46.894000+00:00'}"
      ]
     },
     "execution_count": 15,
     "metadata": {},
     "output_type": "execute_result"
    }
   ],
   "source": [
    "description[0]"
   ]
  },
  {
   "cell_type": "code",
   "execution_count": 16,
   "id": "b856a66c-8d65-4dec-a75a-45da5f2741c0",
   "metadata": {},
   "outputs": [],
   "source": [
    "df = pd.DataFrame.from_records(description)"
   ]
  },
  {
   "cell_type": "code",
   "execution_count": 17,
   "id": "7279fe9a-99dd-49b4-8503-773a4a012be9",
   "metadata": {},
   "outputs": [],
   "source": [
    "df =  df.merge(pd.json_normalize(df.meta, sep=\"_\"), left_index=True, right_index=True)"
   ]
  },
  {
   "cell_type": "code",
   "execution_count": 18,
   "id": "4d566bed-e638-450d-a570-80e9562ba567",
   "metadata": {},
   "outputs": [],
   "source": [
    "df = df.drop(columns=['creator', 'dataset', 'meta', 'notes'])"
   ]
  },
  {
   "cell_type": "code",
   "execution_count": 19,
   "id": "79d18e58-46a7-4d54-9066-dfe6a9396fa5",
   "metadata": {},
   "outputs": [
    {
     "data": {
      "text/html": [
       "<div>\n",
       "<style scoped>\n",
       "    .dataframe tbody tr th:only-of-type {\n",
       "        vertical-align: middle;\n",
       "    }\n",
       "\n",
       "    .dataframe tbody tr th {\n",
       "        vertical-align: top;\n",
       "    }\n",
       "\n",
       "    .dataframe thead th {\n",
       "        text-align: right;\n",
       "    }\n",
       "</style>\n",
       "<table border=\"1\" class=\"dataframe\">\n",
       "  <thead>\n",
       "    <tr style=\"text-align: right;\">\n",
       "      <th></th>\n",
       "      <th>_id</th>\n",
       "      <th>_modelType</th>\n",
       "      <th>created</th>\n",
       "      <th>name</th>\n",
       "      <th>updated</th>\n",
       "      <th>acquisition_image_type</th>\n",
       "      <th>acquisition_pixelsX</th>\n",
       "      <th>acquisition_pixelsY</th>\n",
       "      <th>clinical_age_approx</th>\n",
       "      <th>clinical_anatom_site_general</th>\n",
       "      <th>clinical_benign_malignant</th>\n",
       "      <th>clinical_diagnosis</th>\n",
       "      <th>clinical_diagnosis_confirm_type</th>\n",
       "      <th>clinical_melanocytic</th>\n",
       "      <th>clinical_sex</th>\n",
       "    </tr>\n",
       "  </thead>\n",
       "  <tbody>\n",
       "    <tr>\n",
       "      <th>0</th>\n",
       "      <td>5436e3f3bae478396759f49a</td>\n",
       "      <td>image</td>\n",
       "      <td>2014-10-09T19:37:23.717000+00:00</td>\n",
       "      <td>ISIC_0000483</td>\n",
       "      <td>2015-02-01T00:36:46.894000+00:00</td>\n",
       "      <td>dermoscopic</td>\n",
       "      <td>919</td>\n",
       "      <td>802</td>\n",
       "      <td>NaN</td>\n",
       "      <td>lower extremity</td>\n",
       "      <td>benign</td>\n",
       "      <td>nevus</td>\n",
       "      <td>None</td>\n",
       "      <td>True</td>\n",
       "      <td>None</td>\n",
       "    </tr>\n",
       "    <tr>\n",
       "      <th>1</th>\n",
       "      <td>5436e3cabae478396759f28b</td>\n",
       "      <td>image</td>\n",
       "      <td>2014-10-09T19:36:42.738000+00:00</td>\n",
       "      <td>ISIC_0000221</td>\n",
       "      <td>2015-12-04T15:06:51.949000+00:00</td>\n",
       "      <td>dermoscopic</td>\n",
       "      <td>962</td>\n",
       "      <td>671</td>\n",
       "      <td>30.0</td>\n",
       "      <td>upper extremity</td>\n",
       "      <td>benign</td>\n",
       "      <td>nevus</td>\n",
       "      <td>None</td>\n",
       "      <td>True</td>\n",
       "      <td>female</td>\n",
       "    </tr>\n",
       "  </tbody>\n",
       "</table>\n",
       "</div>"
      ],
      "text/plain": [
       "                        _id _modelType                           created  \\\n",
       "0  5436e3f3bae478396759f49a      image  2014-10-09T19:37:23.717000+00:00   \n",
       "1  5436e3cabae478396759f28b      image  2014-10-09T19:36:42.738000+00:00   \n",
       "\n",
       "           name                           updated acquisition_image_type  \\\n",
       "0  ISIC_0000483  2015-02-01T00:36:46.894000+00:00            dermoscopic   \n",
       "1  ISIC_0000221  2015-12-04T15:06:51.949000+00:00            dermoscopic   \n",
       "\n",
       "   acquisition_pixelsX  acquisition_pixelsY  clinical_age_approx  \\\n",
       "0                  919                  802                  NaN   \n",
       "1                  962                  671                 30.0   \n",
       "\n",
       "  clinical_anatom_site_general clinical_benign_malignant clinical_diagnosis  \\\n",
       "0              lower extremity                    benign              nevus   \n",
       "1              upper extremity                    benign              nevus   \n",
       "\n",
       "  clinical_diagnosis_confirm_type clinical_melanocytic clinical_sex  \n",
       "0                            None                 True         None  \n",
       "1                            None                 True       female  "
      ]
     },
     "execution_count": 19,
     "metadata": {},
     "output_type": "execute_result"
    }
   ],
   "source": [
    "df.head(2)"
   ]
  },
  {
   "cell_type": "code",
   "execution_count": 20,
   "id": "1dd3eb33-2a64-48e2-b55f-d83ba917836c",
   "metadata": {},
   "outputs": [
    {
     "data": {
      "text/plain": [
       "(4288, 576)"
      ]
     },
     "execution_count": 20,
     "metadata": {},
     "output_type": "execute_result"
    }
   ],
   "source": [
    "df.acquisition_pixelsX.max(), df.acquisition_pixelsX.min()"
   ]
  },
  {
   "cell_type": "code",
   "execution_count": 21,
   "id": "3ec78bd3-b5a7-470b-81ae-d31b3dafe9f3",
   "metadata": {},
   "outputs": [],
   "source": [
    "names_benign=df[df.clinical_benign_malignant=='benign'].name\n",
    "names_malignant=df[df.clinical_benign_malignant=='malignant'].name"
   ]
  },
  {
   "cell_type": "code",
   "execution_count": 22,
   "id": "3894eae7-2992-4eca-9a10-42c6773568d3",
   "metadata": {},
   "outputs": [
    {
     "data": {
      "text/plain": [
       "(841, 159)"
      ]
     },
     "execution_count": 22,
     "metadata": {},
     "output_type": "execute_result"
    }
   ],
   "source": [
    "len(names_benign), len(names_malignant)"
   ]
  },
  {
   "cell_type": "code",
   "execution_count": 24,
   "id": "54a1aeb3-eb61-46ec-be07-9a868ed97a7a",
   "metadata": {},
   "outputs": [],
   "source": [
    "\n",
    "for fname in names_benign:\n",
    "    os.rename('Data/Images/'+fname+'.jpeg', 'Data/Images/benign/'+fname+'.jpeg')"
   ]
  },
  {
   "cell_type": "code",
   "execution_count": 25,
   "id": "26feaf02-a9dd-47ae-8a94-647734d763f6",
   "metadata": {},
   "outputs": [],
   "source": [
    "for fname in names_malignant:\n",
    "    os.rename('Data/Images/'+fname+'.jpeg', 'Data/Images/malignant/'+fname+'.jpeg')"
   ]
  },
  {
   "cell_type": "code",
   "execution_count": 26,
   "id": "ff39c823-e229-45bc-b834-38e82a434f6e",
   "metadata": {},
   "outputs": [
    {
     "name": "stdout",
     "output_type": "stream",
     "text": [
      "Found 1000 files belonging to 2 classes.\n"
     ]
    }
   ],
   "source": [
    "data_set = tf.keras.preprocessing.image_dataset_from_directory(\n",
    "    'Data/Images/',\n",
    "    label_mode='binary',\n",
    "    image_size=(df.acquisition_pixelsX.min(),df.acquisition_pixelsY.min()))"
   ]
  },
  {
   "cell_type": "code",
   "execution_count": 27,
   "id": "151a5c19-b64f-4496-9aeb-01d3b9af1325",
   "metadata": {},
   "outputs": [
    {
     "data": {
      "text/plain": [
       "<BatchDataset shapes: ((None, 576, 540, 3), (None, 1)), types: (tf.float32, tf.float32)>"
      ]
     },
     "execution_count": 27,
     "metadata": {},
     "output_type": "execute_result"
    }
   ],
   "source": [
    "data_set"
   ]
  },
  {
   "cell_type": "code",
   "execution_count": null,
   "id": "7c7ba093-d018-4383-a2f4-0236a221604e",
   "metadata": {},
   "outputs": [],
   "source": [
    "def make_model(input_data):\n",
    "    "
   ]
  }
 ],
 "metadata": {
  "kernelspec": {
   "display_name": "Python 3 (ipykernel)",
   "language": "python",
   "name": "python3"
  },
  "language_info": {
   "codemirror_mode": {
    "name": "ipython",
    "version": 3
   },
   "file_extension": ".py",
   "mimetype": "text/x-python",
   "name": "python",
   "nbconvert_exporter": "python",
   "pygments_lexer": "ipython3",
   "version": "3.9.7"
  }
 },
 "nbformat": 4,
 "nbformat_minor": 5
}
